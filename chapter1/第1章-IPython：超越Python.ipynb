{
 "cells": [
  {
   "cell_type": "markdown",
   "source": [
    "# 第1章 IPython：超越Python"
   ],
   "metadata": {
    "collapsed": false
   }
  },
  {
   "cell_type": "code",
   "execution_count": 1,
   "outputs": [
    {
     "name": "stdout",
     "output_type": "stream",
     "text": [
      "Help on built-in function len in module builtins:\n",
      "\n",
      "len(obj, /)\n",
      "    Return the number of items in a container.\n",
      "\n"
     ]
    }
   ],
   "source": [
    "# 用符号?获取文档\n",
    "help(len)"
   ],
   "metadata": {
    "collapsed": false
   }
  },
  {
   "cell_type": "code",
   "execution_count": 2,
   "outputs": [
    {
     "data": {
      "text/plain": "'\\nSignature: square(x)\\nDocstring: return the square of x.\\nFile:      c:\\\\...ŧ866899.py\\nType:      function\\n'"
     },
     "execution_count": 2,
     "metadata": {},
     "output_type": "execute_result"
    }
   ],
   "source": [
    "def square(x):\n",
    "    \"\"\"return the square of x.\"\"\"\n",
    "    return x ** 2\n",
    "\n",
    "square?\n",
    "'''\n",
    "Signature: square(x)\n",
    "Docstring: return the square of x.\n",
    "File:      c:\\...\\547866899.py\n",
    "Type:      function\n",
    "'''"
   ],
   "metadata": {
    "collapsed": false
   }
  },
  {
   "cell_type": "code",
   "execution_count": 3,
   "outputs": [
    {
     "data": {
      "text/plain": "'\\nSignature: square(x)\\nSource:\\ndef square(x):\\n    \"\"\"return the square of x.\"\"\"\\n    return x ** 2\\nFile:      c:\\\\...à0187083.py\\nType:      function\\n'"
     },
     "execution_count": 3,
     "metadata": {},
     "output_type": "execute_result"
    }
   ],
   "source": [
    "# ??获取源码\n",
    "square??\n",
    "'''\n",
    "Signature: square(x)\n",
    "Source:\n",
    "def square(x):\n",
    "    \"\"\"return the square of x.\"\"\"\n",
    "    return x ** 2\n",
    "File:      c:\\...\\3400187083.py\n",
    "Type:      function\n",
    "'''"
   ],
   "metadata": {
    "collapsed": false
   }
  },
  {
   "cell_type": "markdown",
   "source": [
    "## 1.9 代码的分析和计时\n",
    "\n",
    "%time\n",
    "    对单个语句执行计时操作\n",
    "%timeit\n",
    "    对单个语句的重复执行进行计时，以获得最高的准确度\n",
    "%prun\n",
    "    利用分析器运行代码\n",
    "%lprun\n",
    "    利用逐行分析器运行代码\n",
    "%memit\n",
    "    测量单个语句的内存使用\n",
    "%mprun\n",
    "    通过逐行的内存分析器运行代码"
   ],
   "metadata": {
    "collapsed": false
   }
  },
  {
   "cell_type": "markdown",
   "source": [
    "### 1.9.1 代码段计时：%timeit和%time\n",
    "\n"
   ],
   "metadata": {
    "collapsed": false
   }
  },
  {
   "cell_type": "code",
   "execution_count": 3,
   "outputs": [],
   "source": [],
   "metadata": {
    "collapsed": false
   }
  }
 ],
 "metadata": {
  "kernelspec": {
   "display_name": "Python 3",
   "language": "python",
   "name": "python3"
  },
  "language_info": {
   "codemirror_mode": {
    "name": "ipython",
    "version": 2
   },
   "file_extension": ".py",
   "mimetype": "text/x-python",
   "name": "python",
   "nbconvert_exporter": "python",
   "pygments_lexer": "ipython2",
   "version": "2.7.6"
  }
 },
 "nbformat": 4,
 "nbformat_minor": 0
}
